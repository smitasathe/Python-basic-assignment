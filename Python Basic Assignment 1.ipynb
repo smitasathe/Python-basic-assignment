{
 "cells": [
  {
   "cell_type": "markdown",
   "id": "a0e0e7b7",
   "metadata": {},
   "source": [
    "1. In the below elements which of them are values or an expression? eg:- values can be integer or string and expressions will be mathematical operators.\n",
    "* \n",
    "'hello'\n",
    "-87.8\n",
    "- \n",
    "/ \n",
    "+\t\n",
    "\n",
    "Answer - \n",
    "*  - expression\n",
    "'hello' - string\n",
    "-87.8 - float\n",
    "- - expressions\n",
    "/ - expressions\n",
    "+\t- expressions\n"
   ]
  },
  {
   "cell_type": "markdown",
   "id": "73e177bd",
   "metadata": {},
   "source": [
    "2. What is the difference between string and variable?\n",
    "Answer\n",
    "String is just a type of variable. \n",
    "Python detects the type of variable automatically. A string is written between quotes (\"\").Example - \"value\", 'value'. Variables are used to store values."
   ]
  },
  {
   "cell_type": "markdown",
   "id": "23654568",
   "metadata": {},
   "source": [
    "3. Describe three different data types.\n",
    "Answer -\n",
    "Three different data types are string, integers and float. Below is the detailed explanation in detail.\n",
    "1. String - String is a text. Anything written between \" \" is a string. String is immutable.\n",
    "2. Integers - Integers are whole numbers. Integer is immutable.\n",
    "3. Floats - Floats are decimal numbers. Float is immutable.\n",
    "\n"
   ]
  },
  {
   "cell_type": "markdown",
   "id": "78d1ba10",
   "metadata": {},
   "source": [
    "4. What is an expression made up of? What do all expressions do?\n",
    "Answer\n",
    "An expression is a combination of operators and operands that is interpreted to produce some other value. In any programming language, an expression is evaluated as per the precedence of its operators. So that if there is more than one operator in an expression, their precedence decides which operation will be performed first.\n",
    "\n",
    "example a = 9*5"
   ]
  },
  {
   "cell_type": "markdown",
   "id": "4e23091a",
   "metadata": {},
   "source": [
    "5. This assignment statements, like spam = 10. What is the difference between an expression and a statement?\n",
    "Answer\n",
    "Expression is a combination of values and functions that are combined and interpreted by the compiler to create a new value, as opposed to a Statement which is just a standalone unit of execution and doesn’t return anything. "
   ]
  },
  {
   "cell_type": "markdown",
   "id": "9b3c894f",
   "metadata": {},
   "source": [
    "6. After running the following code, what does the variable bacon contain?\n",
    "bacon = 22\n",
    "bacon + 1\n",
    "Answer\n",
    "Bacon = 23"
   ]
  },
  {
   "cell_type": "code",
   "execution_count": 1,
   "id": "fd258fd8",
   "metadata": {},
   "outputs": [
    {
     "data": {
      "text/plain": [
       "23"
      ]
     },
     "execution_count": 1,
     "metadata": {},
     "output_type": "execute_result"
    }
   ],
   "source": [
    "bacon = 22\n",
    "bacon + 1"
   ]
  },
  {
   "cell_type": "markdown",
   "id": "782f3942",
   "metadata": {},
   "source": [
    "7. What should the values of the following two terms be?\n",
    "'spam' + 'spamspam'\n",
    "'spam' * 3\n",
    "Answer -\n",
    "it will be same"
   ]
  },
  {
   "cell_type": "code",
   "execution_count": 2,
   "id": "3a82bc51",
   "metadata": {},
   "outputs": [
    {
     "data": {
      "text/plain": [
       "'spamspamspam'"
      ]
     },
     "execution_count": 2,
     "metadata": {},
     "output_type": "execute_result"
    }
   ],
   "source": [
    "'spam' + 'spamspam'"
   ]
  },
  {
   "cell_type": "code",
   "execution_count": 3,
   "id": "e5d322bc",
   "metadata": {},
   "outputs": [
    {
     "data": {
      "text/plain": [
       "'spamspamspam'"
      ]
     },
     "execution_count": 3,
     "metadata": {},
     "output_type": "execute_result"
    }
   ],
   "source": [
    "'spam' * 3"
   ]
  },
  {
   "cell_type": "markdown",
   "id": "e37d6a64",
   "metadata": {},
   "source": [
    "8. Why is eggs a valid variable name while 100 is invalid?\n",
    "Answer\n",
    "Variable name can be made of names/string. It cannot start with a number. So egg is a valid variable name.\n",
    "Variable name cannot be number. So 100 is not a valid variable name."
   ]
  },
  {
   "cell_type": "markdown",
   "id": "c0b4e12b",
   "metadata": {},
   "source": [
    "9. What three functions can be used to get the integer, floating-point number, or string version of a value?\n",
    "Answer -\n",
    "integer - int()\n",
    "floating point - float()\n",
    "string - str()"
   ]
  },
  {
   "cell_type": "markdown",
   "id": "d1a8e212",
   "metadata": {},
   "source": [
    "10. Why does this expression cause an error? How can you fix it?\n",
    "'I have eaten ' + 99 + ' burritos.'\n",
    "Answer -\n",
    "99 is an integer which cannot be concatenated with strings. If we whave to concatenate it we need to typecasting. "
   ]
  },
  {
   "cell_type": "code",
   "execution_count": 4,
   "id": "a6b2f273",
   "metadata": {},
   "outputs": [
    {
     "ename": "TypeError",
     "evalue": "must be str, not int",
     "output_type": "error",
     "traceback": [
      "\u001b[0;31m---------------------------------------------------------------------------\u001b[0m",
      "\u001b[0;31mTypeError\u001b[0m                                 Traceback (most recent call last)",
      "\u001b[0;32m<ipython-input-4-d24137131a5c>\u001b[0m in \u001b[0;36m<module>\u001b[0;34m\u001b[0m\n\u001b[0;32m----> 1\u001b[0;31m \u001b[0;34m'I have eaten '\u001b[0m \u001b[0;34m+\u001b[0m \u001b[0;36m99\u001b[0m \u001b[0;34m+\u001b[0m \u001b[0;34m' burritos.'\u001b[0m\u001b[0;34m\u001b[0m\u001b[0;34m\u001b[0m\u001b[0m\n\u001b[0m",
      "\u001b[0;31mTypeError\u001b[0m: must be str, not int"
     ]
    }
   ],
   "source": [
    "'I have eaten ' + 99 + ' burritos.'"
   ]
  }
 ],
 "metadata": {
  "kernelspec": {
   "display_name": "Python 3",
   "language": "python",
   "name": "python3"
  },
  "language_info": {
   "codemirror_mode": {
    "name": "ipython",
    "version": 3
   },
   "file_extension": ".py",
   "mimetype": "text/x-python",
   "name": "python",
   "nbconvert_exporter": "python",
   "pygments_lexer": "ipython3",
   "version": "3.6.13"
  }
 },
 "nbformat": 4,
 "nbformat_minor": 5
}
