{
 "cells": [
  {
   "cell_type": "markdown",
   "id": "7b66363c",
   "metadata": {},
   "source": [
    "1. What exactly is []?"
   ]
  },
  {
   "cell_type": "markdown",
   "id": "5ba8783c",
   "metadata": {},
   "source": [
    "The empty list value, which is a list value that contains no items. This is similar to how '' is the empty string value."
   ]
  },
  {
   "cell_type": "markdown",
   "id": "c0da4309",
   "metadata": {},
   "source": [
    "2. In a list of values stored in a variable called spam, how would you assign the value 'hello' as the third value? (Assume [2, 4, 6, 8, 10] are in spam.)\n",
    "Let's pretend the spam includes the list ['a', 'b', 'c', 'd'] for the next three queries."
   ]
  },
  {
   "cell_type": "markdown",
   "id": "bf8ee264",
   "metadata": {},
   "source": [
    "spam[2] = 'hello' (Notice that the third value in a list is at index 2 because the first index is 0.)"
   ]
  },
  {
   "cell_type": "markdown",
   "id": "89e6a035",
   "metadata": {},
   "source": [
    "3. What is the value of spam[int(int('3' * 2) / 11)]?"
   ]
  },
  {
   "cell_type": "markdown",
   "id": "9ec05232",
   "metadata": {},
   "source": [
    "'d' (Note that '3' * 2 is the string '33', which is passed to int() before being divided by 11. This eventually evaluates to 3. Expressions can be used wherever values are used.)"
   ]
  },
  {
   "cell_type": "markdown",
   "id": "29ef68cf",
   "metadata": {},
   "source": [
    "4. What is the value of spam[-1]?"
   ]
  },
  {
   "cell_type": "markdown",
   "id": "a33f7478",
   "metadata": {},
   "source": [
    "'d' (Negative indexes count from the end.)"
   ]
  },
  {
   "cell_type": "markdown",
   "id": "a0d64433",
   "metadata": {},
   "source": [
    "5. What is the value of spam[:2]?\n",
    "Let's pretend bacon has the list [3.14, 'cat,' 11, 'cat,' True] for the next three questions."
   ]
  },
  {
   "cell_type": "markdown",
   "id": "ef12425a",
   "metadata": {},
   "source": [
    "['a', 'b']"
   ]
  },
  {
   "cell_type": "markdown",
   "id": "11d2c9b2",
   "metadata": {},
   "source": [
    "6. What is the value of bacon.index('cat')?"
   ]
  },
  {
   "cell_type": "markdown",
   "id": "5821b9bd",
   "metadata": {},
   "source": [
    "1"
   ]
  },
  {
   "cell_type": "markdown",
   "id": "7fd98cc5",
   "metadata": {},
   "source": [
    "7. How does bacon.append(99) change the look of the list value in bacon?"
   ]
  },
  {
   "cell_type": "markdown",
   "id": "dbfd01af",
   "metadata": {},
   "source": [
    "[3.14, 'cat', 11, 'cat', True, 99]"
   ]
  },
  {
   "cell_type": "markdown",
   "id": "a7763229",
   "metadata": {},
   "source": [
    "8. How does bacon.remove('cat') change the look of the list in bacon?"
   ]
  },
  {
   "cell_type": "markdown",
   "id": "1bf54a4c",
   "metadata": {},
   "source": [
    "[3.14, 11, 'cat', True]"
   ]
  },
  {
   "cell_type": "markdown",
   "id": "0f096b0f",
   "metadata": {},
   "source": [
    "9. What are the list concatenation and list replication operators?"
   ]
  },
  {
   "cell_type": "markdown",
   "id": "4cb18a39",
   "metadata": {},
   "source": [
    "The operator for list concatenation is +, while the operator for replication is *. (This is the same as for strings.)"
   ]
  },
  {
   "cell_type": "markdown",
   "id": "a9461a03",
   "metadata": {},
   "source": [
    "10. What is difference between the list methods append() and insert()?"
   ]
  },
  {
   "cell_type": "markdown",
   "id": "3641fc5c",
   "metadata": {},
   "source": [
    "While append() will add values only to the end of a list, insert() can add them anywhere in the list."
   ]
  },
  {
   "cell_type": "markdown",
   "id": "59e6f7e9",
   "metadata": {},
   "source": [
    "11. What are the two methods for removing items from a list?"
   ]
  },
  {
   "cell_type": "markdown",
   "id": "4a9643c0",
   "metadata": {},
   "source": [
    "The del statement and the remove() list method are two ways to remove values from a list."
   ]
  },
  {
   "cell_type": "markdown",
   "id": "6b158d08",
   "metadata": {},
   "source": [
    "12. Describe how list values and string values are identical."
   ]
  },
  {
   "cell_type": "markdown",
   "id": "b3c8ee1d",
   "metadata": {},
   "source": [
    "Both lists and strings can be passed to len(), have indexes and slices, be used in for loops, be concatenated or replicated, and be used with the in and not in operators."
   ]
  },
  {
   "cell_type": "markdown",
   "id": "07ca03f4",
   "metadata": {},
   "source": [
    "13. What's the difference between tuples and lists?"
   ]
  },
  {
   "cell_type": "markdown",
   "id": "930ff6e7",
   "metadata": {},
   "source": [
    "Lists are mutable; they can have values added, removed, or changed. Tuples are immutable; they cannot be changed at all. Also, tuples are written using parentheses, ( and ), while lists use the square brackets, [ and ]."
   ]
  },
  {
   "cell_type": "markdown",
   "id": "5eb6b1ca",
   "metadata": {},
   "source": [
    "14. How do you type a tuple value that only contains the integer 42?"
   ]
  },
  {
   "cell_type": "markdown",
   "id": "bb8c253f",
   "metadata": {},
   "source": [
    "(42,) (The trailing comma is mandatory.)"
   ]
  },
  {
   "cell_type": "markdown",
   "id": "a6312855",
   "metadata": {},
   "source": [
    "15. How do you get a list value's tuple form? How do you get a tuple value's list form?"
   ]
  },
  {
   "cell_type": "markdown",
   "id": "e4f7e98c",
   "metadata": {},
   "source": [
    "The tuple() and list() functions, respectively"
   ]
  },
  {
   "cell_type": "markdown",
   "id": "e17954e9",
   "metadata": {},
   "source": [
    "16. Variables that \"contain\" list values are not necessarily lists themselves. Instead, what do they contain?"
   ]
  },
  {
   "cell_type": "markdown",
   "id": "920d84f9",
   "metadata": {},
   "source": [
    "They contain references to list values."
   ]
  },
  {
   "cell_type": "markdown",
   "id": "c07eaf2e",
   "metadata": {},
   "source": [
    "17. How do you distinguish between copy.copy() and copy.deepcopy()?"
   ]
  },
  {
   "cell_type": "markdown",
   "id": "3480e2c7",
   "metadata": {},
   "source": [
    "The copy.copy() function will do a shallow copy of a list, while the copy.deepcopy() function will do a deep copy of a list. That is, only copy.deepcopy() will duplicate any lists inside the list."
   ]
  }
 ],
 "metadata": {
  "kernelspec": {
   "display_name": "Python 3",
   "language": "python",
   "name": "python3"
  },
  "language_info": {
   "codemirror_mode": {
    "name": "ipython",
    "version": 3
   },
   "file_extension": ".py",
   "mimetype": "text/x-python",
   "name": "python",
   "nbconvert_exporter": "python",
   "pygments_lexer": "ipython3",
   "version": "3.6.15"
  }
 },
 "nbformat": 4,
 "nbformat_minor": 5
}
